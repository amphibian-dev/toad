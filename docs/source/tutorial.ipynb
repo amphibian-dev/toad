{
 "cells": [
  {
   "cell_type": "markdown",
   "metadata": {},
   "source": [
    "# toad Tutorial \n",
    "\n",
    "Toad is a Python toolkit for professional model developers - a part of its functionality is specific for scorecard development. The toad package is countiously being upgraded and added for new features. We will introduce the key functionality in this tutorial, including:\n",
    "\n",
    "1. EDA-related functions \n",
    "2. how to use toad to fine tune feature binning and conduct feature selection\n",
    "3. WOE transformation \n",
    "4. stepwise feature selection \n",
    "5. model evaluation and validation\n",
    "6. scorecard transformation \n",
    "7. other functions\n",
    "\n",
    "-----------------\n",
    "-----------------\n",
    "\n",
    "### This tutorial will demonstrate how to use toad to model data of high dimension with efficiency. "
   ]
  },
  {
   "cell_type": "markdown",
   "metadata": {},
   "source": [
    "***Install and upgrade：***\n",
    "1. pip：!pip install toad\n",
    "2. conda：conda install toad --channel conda-forge\n",
    "3. update：!pip install -U toad; conda install -U toad --channel conda-forge\n",
    "\n",
    "***Feel free to open new issues on our [github](https://github.com/amphibian-dev/toad)***\n",
    "\n"
   ]
  },
  {
   "cell_type": "code",
   "execution_count": 4,
   "metadata": {},
   "outputs": [],
   "source": [
    "import pandas as pd\n",
    "import numpy as np\n",
    "import toad"
   ]
  },
  {
   "cell_type": "code",
   "execution_count": 1,
   "metadata": {},
   "outputs": [
    {
     "data": {
      "text/plain": [
       "'\\nPlease upgrade to the latest version\\n'"
      ]
     },
     "execution_count": 1,
     "metadata": {},
     "output_type": "execute_result"
    }
   ],
   "source": [
    "'''\n",
    "Please upgrade to the latest version\n",
    "'''"
   ]
  },
  {
   "cell_type": "markdown",
   "metadata": {},
   "source": [
    "-----------------------\n",
    "### <font color='blue'>### 0. Load data</font>\n",
    "\n",
    "The demo data has 165 dimensions, including one ID column, a target variable, and a month column. The feature columns contain both categorical and numerical features, with several having missing data. \n",
    "\n",
    "***This demo will showcase how toad can efficiently and effectively help model development for such dirty / nasty dataset.  ***\n"
   ]
  },
  {
   "cell_type": "code",
   "execution_count": 7,
   "metadata": {
    "collapsed": true
   },
   "outputs": [
    {
     "name": "stdout",
     "output_type": "stream",
     "text": [
      "Shape: (108940, 167)\n"
     ]
    },
    {
     "data": {
      "text/html": [
       "<div>\n",
       "<style scoped>\n",
       "    .dataframe tbody tr th:only-of-type {\n",
       "        vertical-align: middle;\n",
       "    }\n",
       "\n",
       "    .dataframe tbody tr th {\n",
       "        vertical-align: top;\n",
       "    }\n",
       "\n",
       "    .dataframe thead th {\n",
       "        text-align: right;\n",
       "    }\n",
       "</style>\n",
       "<table border=\"1\" class=\"dataframe\">\n",
       "  <thead>\n",
       "    <tr style=\"text-align: right;\">\n",
       "      <th></th>\n",
       "      <th>APP_ID_C</th>\n",
       "      <th>target</th>\n",
       "      <th>var_d1</th>\n",
       "      <th>var_d2</th>\n",
       "      <th>var_d3</th>\n",
       "      <th>var_d4</th>\n",
       "      <th>var_d5</th>\n",
       "      <th>var_d6</th>\n",
       "      <th>var_d7</th>\n",
       "      <th>var_d8</th>\n",
       "      <th>...</th>\n",
       "      <th>var_l_118</th>\n",
       "      <th>var_l_119</th>\n",
       "      <th>var_l_120</th>\n",
       "      <th>var_l_121</th>\n",
       "      <th>var_l_122</th>\n",
       "      <th>var_l_123</th>\n",
       "      <th>var_l_124</th>\n",
       "      <th>var_l_125</th>\n",
       "      <th>var_l_126</th>\n",
       "      <th>month</th>\n",
       "    </tr>\n",
       "  </thead>\n",
       "  <tbody>\n",
       "    <tr>\n",
       "      <th>0</th>\n",
       "      <td>app_1</td>\n",
       "      <td>0</td>\n",
       "      <td>Hit-6+ Vintage</td>\n",
       "      <td>816.0</td>\n",
       "      <td>RESIDENT INDIAN</td>\n",
       "      <td>Post-Graduate</td>\n",
       "      <td>M</td>\n",
       "      <td>RESIDENT INDIAN</td>\n",
       "      <td>SELF-EMPLOYED</td>\n",
       "      <td>Y</td>\n",
       "      <td>...</td>\n",
       "      <td>0.0</td>\n",
       "      <td>0.000000</td>\n",
       "      <td>0.0</td>\n",
       "      <td>0.000000</td>\n",
       "      <td>0.0</td>\n",
       "      <td>0.000000</td>\n",
       "      <td>0.0</td>\n",
       "      <td>0.000000</td>\n",
       "      <td>0.0</td>\n",
       "      <td>2019-03</td>\n",
       "    </tr>\n",
       "    <tr>\n",
       "      <th>1</th>\n",
       "      <td>app_2</td>\n",
       "      <td>0</td>\n",
       "      <td>NaN</td>\n",
       "      <td>841.0</td>\n",
       "      <td>RESIDENT INDIAN</td>\n",
       "      <td>Post-Graduate</td>\n",
       "      <td>F</td>\n",
       "      <td>RESIDENT INDIAN</td>\n",
       "      <td>SALARIED</td>\n",
       "      <td>N</td>\n",
       "      <td>...</td>\n",
       "      <td>0.0</td>\n",
       "      <td>0.000000</td>\n",
       "      <td>0.0</td>\n",
       "      <td>0.000000</td>\n",
       "      <td>0.0</td>\n",
       "      <td>0.000000</td>\n",
       "      <td>0.0</td>\n",
       "      <td>0.000000</td>\n",
       "      <td>0.0</td>\n",
       "      <td>2019-03</td>\n",
       "    </tr>\n",
       "    <tr>\n",
       "      <th>2</th>\n",
       "      <td>app_3</td>\n",
       "      <td>0</td>\n",
       "      <td>Hit-6+ Vintage</td>\n",
       "      <td>791.0</td>\n",
       "      <td>RESIDENT INDIAN</td>\n",
       "      <td>Post-Graduate</td>\n",
       "      <td>M</td>\n",
       "      <td>RESIDENT INDIAN</td>\n",
       "      <td>PROPRIETOR</td>\n",
       "      <td>Y</td>\n",
       "      <td>...</td>\n",
       "      <td>0.0</td>\n",
       "      <td>0.088235</td>\n",
       "      <td>0.0</td>\n",
       "      <td>0.100000</td>\n",
       "      <td>0.0</td>\n",
       "      <td>0.011494</td>\n",
       "      <td>0.5</td>\n",
       "      <td>0.000000</td>\n",
       "      <td>0.0</td>\n",
       "      <td>2019-03</td>\n",
       "    </tr>\n",
       "    <tr>\n",
       "      <th>3</th>\n",
       "      <td>app_4</td>\n",
       "      <td>0</td>\n",
       "      <td>Hit-6+ Vintage</td>\n",
       "      <td>821.0</td>\n",
       "      <td>RESIDENT INDIAN</td>\n",
       "      <td>Graduate</td>\n",
       "      <td>M</td>\n",
       "      <td>RESIDENT INDIAN</td>\n",
       "      <td>SELF-EMPLOYED</td>\n",
       "      <td>N</td>\n",
       "      <td>...</td>\n",
       "      <td>0.0</td>\n",
       "      <td>0.000000</td>\n",
       "      <td>0.0</td>\n",
       "      <td>0.000000</td>\n",
       "      <td>0.0</td>\n",
       "      <td>0.000000</td>\n",
       "      <td>0.0</td>\n",
       "      <td>0.000000</td>\n",
       "      <td>0.0</td>\n",
       "      <td>2019-03</td>\n",
       "    </tr>\n",
       "    <tr>\n",
       "      <th>4</th>\n",
       "      <td>app_5</td>\n",
       "      <td>0</td>\n",
       "      <td>Hit-6+ Vintage</td>\n",
       "      <td>807.0</td>\n",
       "      <td>RESIDENT INDIAN</td>\n",
       "      <td>Graduate</td>\n",
       "      <td>M</td>\n",
       "      <td>RESIDENT INDIAN</td>\n",
       "      <td>SALARIED</td>\n",
       "      <td>Y</td>\n",
       "      <td>...</td>\n",
       "      <td>0.0</td>\n",
       "      <td>0.000000</td>\n",
       "      <td>0.0</td>\n",
       "      <td>0.000000</td>\n",
       "      <td>0.0</td>\n",
       "      <td>0.540541</td>\n",
       "      <td>0.0</td>\n",
       "      <td>0.285714</td>\n",
       "      <td>0.0</td>\n",
       "      <td>2019-03</td>\n",
       "    </tr>\n",
       "    <tr>\n",
       "      <th>5</th>\n",
       "      <td>app_6</td>\n",
       "      <td>0</td>\n",
       "      <td>Hit-6+ Vintage</td>\n",
       "      <td>788.0</td>\n",
       "      <td>RESIDENT INDIAN</td>\n",
       "      <td>Others</td>\n",
       "      <td>M</td>\n",
       "      <td>RESIDENT INDIAN</td>\n",
       "      <td>SALARIED</td>\n",
       "      <td>N</td>\n",
       "      <td>...</td>\n",
       "      <td>0.0</td>\n",
       "      <td>0.000000</td>\n",
       "      <td>0.0</td>\n",
       "      <td>0.000000</td>\n",
       "      <td>0.0</td>\n",
       "      <td>0.000000</td>\n",
       "      <td>0.0</td>\n",
       "      <td>0.000000</td>\n",
       "      <td>0.0</td>\n",
       "      <td>2019-03</td>\n",
       "    </tr>\n",
       "    <tr>\n",
       "      <th>6</th>\n",
       "      <td>app_7</td>\n",
       "      <td>0</td>\n",
       "      <td>Hit-6+ Vintage</td>\n",
       "      <td>779.0</td>\n",
       "      <td>RESIDENT INDIAN</td>\n",
       "      <td>Graduate</td>\n",
       "      <td>M</td>\n",
       "      <td>RESIDENT INDIAN</td>\n",
       "      <td>ATTORNEY AT LAW</td>\n",
       "      <td>Y</td>\n",
       "      <td>...</td>\n",
       "      <td>0.0</td>\n",
       "      <td>0.722222</td>\n",
       "      <td>0.0</td>\n",
       "      <td>0.777778</td>\n",
       "      <td>0.0</td>\n",
       "      <td>0.380952</td>\n",
       "      <td>0.0</td>\n",
       "      <td>0.571429</td>\n",
       "      <td>0.0</td>\n",
       "      <td>2019-03</td>\n",
       "    </tr>\n",
       "    <tr>\n",
       "      <th>7</th>\n",
       "      <td>app_8</td>\n",
       "      <td>0</td>\n",
       "      <td>Hit-6+ Vintage</td>\n",
       "      <td>801.0</td>\n",
       "      <td>RESIDENT INDIAN</td>\n",
       "      <td>Post-Graduate</td>\n",
       "      <td>M</td>\n",
       "      <td>RESIDENT INDIAN</td>\n",
       "      <td>SAL(RETIRAL AGE 60)</td>\n",
       "      <td>N</td>\n",
       "      <td>...</td>\n",
       "      <td>0.0</td>\n",
       "      <td>0.000000</td>\n",
       "      <td>0.0</td>\n",
       "      <td>0.000000</td>\n",
       "      <td>0.0</td>\n",
       "      <td>0.000000</td>\n",
       "      <td>0.0</td>\n",
       "      <td>0.000000</td>\n",
       "      <td>0.0</td>\n",
       "      <td>2019-03</td>\n",
       "    </tr>\n",
       "    <tr>\n",
       "      <th>8</th>\n",
       "      <td>app_9</td>\n",
       "      <td>0</td>\n",
       "      <td>Hit-6+ Vintage</td>\n",
       "      <td>815.0</td>\n",
       "      <td>RESIDENT INDIAN</td>\n",
       "      <td>Graduate</td>\n",
       "      <td>F</td>\n",
       "      <td>RESIDENT INDIAN</td>\n",
       "      <td>NaN</td>\n",
       "      <td>Y</td>\n",
       "      <td>...</td>\n",
       "      <td>0.0</td>\n",
       "      <td>0.000000</td>\n",
       "      <td>0.0</td>\n",
       "      <td>0.000000</td>\n",
       "      <td>0.0</td>\n",
       "      <td>0.000000</td>\n",
       "      <td>0.0</td>\n",
       "      <td>0.000000</td>\n",
       "      <td>0.0</td>\n",
       "      <td>2019-03</td>\n",
       "    </tr>\n",
       "    <tr>\n",
       "      <th>9</th>\n",
       "      <td>app_10</td>\n",
       "      <td>0</td>\n",
       "      <td>NaN</td>\n",
       "      <td>804.0</td>\n",
       "      <td>RESIDENT INDIAN</td>\n",
       "      <td>Graduate</td>\n",
       "      <td>M</td>\n",
       "      <td>RESIDENT INDIAN</td>\n",
       "      <td>PROPRIETOR</td>\n",
       "      <td>N</td>\n",
       "      <td>...</td>\n",
       "      <td>0.0</td>\n",
       "      <td>0.000000</td>\n",
       "      <td>0.0</td>\n",
       "      <td>0.000000</td>\n",
       "      <td>0.0</td>\n",
       "      <td>0.000000</td>\n",
       "      <td>0.0</td>\n",
       "      <td>0.000000</td>\n",
       "      <td>0.0</td>\n",
       "      <td>2019-03</td>\n",
       "    </tr>\n",
       "  </tbody>\n",
       "</table>\n",
       "<p>10 rows × 167 columns</p>\n",
       "</div>"
      ],
      "text/plain": [
       "  APP_ID_C  target          var_d1  var_d2           var_d3         var_d4  \\\n",
       "0    app_1       0  Hit-6+ Vintage   816.0  RESIDENT INDIAN  Post-Graduate   \n",
       "1    app_2       0             NaN   841.0  RESIDENT INDIAN  Post-Graduate   \n",
       "2    app_3       0  Hit-6+ Vintage   791.0  RESIDENT INDIAN  Post-Graduate   \n",
       "3    app_4       0  Hit-6+ Vintage   821.0  RESIDENT INDIAN       Graduate   \n",
       "4    app_5       0  Hit-6+ Vintage   807.0  RESIDENT INDIAN       Graduate   \n",
       "5    app_6       0  Hit-6+ Vintage   788.0  RESIDENT INDIAN         Others   \n",
       "6    app_7       0  Hit-6+ Vintage   779.0  RESIDENT INDIAN       Graduate   \n",
       "7    app_8       0  Hit-6+ Vintage   801.0  RESIDENT INDIAN  Post-Graduate   \n",
       "8    app_9       0  Hit-6+ Vintage   815.0  RESIDENT INDIAN       Graduate   \n",
       "9   app_10       0             NaN   804.0  RESIDENT INDIAN       Graduate   \n",
       "\n",
       "  var_d5           var_d6               var_d7 var_d8  ...  var_l_118  \\\n",
       "0      M  RESIDENT INDIAN        SELF-EMPLOYED      Y  ...        0.0   \n",
       "1      F  RESIDENT INDIAN             SALARIED      N  ...        0.0   \n",
       "2      M  RESIDENT INDIAN           PROPRIETOR      Y  ...        0.0   \n",
       "3      M  RESIDENT INDIAN        SELF-EMPLOYED      N  ...        0.0   \n",
       "4      M  RESIDENT INDIAN             SALARIED      Y  ...        0.0   \n",
       "5      M  RESIDENT INDIAN             SALARIED      N  ...        0.0   \n",
       "6      M  RESIDENT INDIAN      ATTORNEY AT LAW      Y  ...        0.0   \n",
       "7      M  RESIDENT INDIAN  SAL(RETIRAL AGE 60)      N  ...        0.0   \n",
       "8      F  RESIDENT INDIAN                  NaN      Y  ...        0.0   \n",
       "9      M  RESIDENT INDIAN           PROPRIETOR      N  ...        0.0   \n",
       "\n",
       "  var_l_119  var_l_120  var_l_121  var_l_122  var_l_123  var_l_124  var_l_125  \\\n",
       "0  0.000000        0.0   0.000000        0.0   0.000000        0.0   0.000000   \n",
       "1  0.000000        0.0   0.000000        0.0   0.000000        0.0   0.000000   \n",
       "2  0.088235        0.0   0.100000        0.0   0.011494        0.5   0.000000   \n",
       "3  0.000000        0.0   0.000000        0.0   0.000000        0.0   0.000000   \n",
       "4  0.000000        0.0   0.000000        0.0   0.540541        0.0   0.285714   \n",
       "5  0.000000        0.0   0.000000        0.0   0.000000        0.0   0.000000   \n",
       "6  0.722222        0.0   0.777778        0.0   0.380952        0.0   0.571429   \n",
       "7  0.000000        0.0   0.000000        0.0   0.000000        0.0   0.000000   \n",
       "8  0.000000        0.0   0.000000        0.0   0.000000        0.0   0.000000   \n",
       "9  0.000000        0.0   0.000000        0.0   0.000000        0.0   0.000000   \n",
       "\n",
       "   var_l_126    month  \n",
       "0        0.0  2019-03  \n",
       "1        0.0  2019-03  \n",
       "2        0.0  2019-03  \n",
       "3        0.0  2019-03  \n",
       "4        0.0  2019-03  \n",
       "5        0.0  2019-03  \n",
       "6        0.0  2019-03  \n",
       "7        0.0  2019-03  \n",
       "8        0.0  2019-03  \n",
       "9        0.0  2019-03  \n",
       "\n",
       "[10 rows x 167 columns]"
      ]
     },
     "execution_count": 7,
     "metadata": {},
     "output_type": "execute_result"
    }
   ],
   "source": [
    "data = pd.read_csv('train.csv')\n",
    "print('Shape:',data.shape)\n",
    "data.head(10)"
   ]
  },
  {
   "cell_type": "markdown",
   "metadata": {},
   "source": [
    "#### The dataset contains monthly data from Mar, 2019 - Jul, 2019. We will use Mar and Apr data as training sample and May, Jun, Jul data as out-of-time (OOT) sample."
   ]
  },
  {
   "cell_type": "code",
   "execution_count": 4,
   "metadata": {},
   "outputs": [
    {
     "name": "stdout",
     "output_type": "stream",
     "text": [
      "month: ['2019-03' '2019-04' '2019-05' '2019-06' '2019-07']\n"
     ]
    }
   ],
   "source": [
    "print('month:',data.month.unique())"
   ]
  },
  {
   "cell_type": "code",
   "execution_count": 8,
   "metadata": {},
   "outputs": [
    {
     "name": "stdout",
     "output_type": "stream",
     "text": [
      "train size: (43576, 167) \n",
      "OOT size: (65364, 167)\n"
     ]
    }
   ],
   "source": [
    "train = data.loc[data.month.isin(['2019-03','2019-04'])==True,:]\n",
    "OOT = data.loc[data.month.isin(['2019-03','2019-04'])==False,:]\n",
    "\n",
    "print('train size:',train.shape,'\\nOOT size:',OOT.shape)"
   ]
  },
  {
   "cell_type": "markdown",
   "metadata": {},
   "source": [
    "-----------------------\n",
    "### <font color='blue'>### I. EDA functions</font>\n",
    "\n",
    "#### 1. toad.detect(dataframe): \n",
    "\n",
    "To EDA data statics and other information. The columns output the statistical summary of each column. The ones that should be paid attention with are: no. of missing, no. of unqiue values, mean for numerical features, mode for categorical features, etc. As per the cell below, the takeaway should include:\n",
    "\n",
    "a. postive samples account for 2.2%: the mean of traget col is 0.0219479\n",
    "\n",
    "b. several features have different amount of missing values: notice the missing col.\n",
    "\n",
    "c. there are both categoical and numerical features. The unique values of several categorical features are high - from 10 to even 84: notice the unqiue col for features of type==object."
   ]
  },
  {
   "cell_type": "code",
   "execution_count": 6,
   "metadata": {
    "scrolled": true
   },
   "outputs": [
    {
     "data": {
      "text/html": [
       "<div>\n",
       "<style scoped>\n",
       "    .dataframe tbody tr th:only-of-type {\n",
       "        vertical-align: middle;\n",
       "    }\n",
       "\n",
       "    .dataframe tbody tr th {\n",
       "        vertical-align: top;\n",
       "    }\n",
       "\n",
       "    .dataframe thead th {\n",
       "        text-align: right;\n",
       "    }\n",
       "</style>\n",
       "<table border=\"1\" class=\"dataframe\">\n",
       "  <thead>\n",
       "    <tr style=\"text-align: right;\">\n",
       "      <th></th>\n",
       "      <th>type</th>\n",
       "      <th>size</th>\n",
       "      <th>missing</th>\n",
       "      <th>unique</th>\n",
       "      <th>mean_or_top1</th>\n",
       "      <th>std_or_top2</th>\n",
       "      <th>min_or_top3</th>\n",
       "      <th>1%_or_top4</th>\n",
       "      <th>10%_or_top5</th>\n",
       "      <th>50%_or_bottom5</th>\n",
       "      <th>75%_or_bottom4</th>\n",
       "      <th>90%_or_bottom3</th>\n",
       "      <th>99%_or_bottom2</th>\n",
       "      <th>max_or_bottom1</th>\n",
       "    </tr>\n",
       "  </thead>\n",
       "  <tbody>\n",
       "    <tr>\n",
       "      <th>APP_ID_C</th>\n",
       "      <td>object</td>\n",
       "      <td>43576</td>\n",
       "      <td>0.00%</td>\n",
       "      <td>43576</td>\n",
       "      <td>app_36227:0.00%</td>\n",
       "      <td>app_29819:0.00%</td>\n",
       "      <td>app_35476:0.00%</td>\n",
       "      <td>app_10104:0.00%</td>\n",
       "      <td>app_35794:0.00%</td>\n",
       "      <td>app_25789:0.00%</td>\n",
       "      <td>app_36858:0.00%</td>\n",
       "      <td>app_12750:0.00%</td>\n",
       "      <td>app_24:0.00%</td>\n",
       "      <td>app_13004:0.00%</td>\n",
       "    </tr>\n",
       "    <tr>\n",
       "      <th>target</th>\n",
       "      <td>int64</td>\n",
       "      <td>43576</td>\n",
       "      <td>0.00%</td>\n",
       "      <td>2</td>\n",
       "      <td>0.0213191</td>\n",
       "      <td>0.144447</td>\n",
       "      <td>0</td>\n",
       "      <td>0</td>\n",
       "      <td>0</td>\n",
       "      <td>0</td>\n",
       "      <td>0</td>\n",
       "      <td>0</td>\n",
       "      <td>1</td>\n",
       "      <td>1</td>\n",
       "    </tr>\n",
       "    <tr>\n",
       "      <th>var_d1</th>\n",
       "      <td>object</td>\n",
       "      <td>43576</td>\n",
       "      <td>37.57%</td>\n",
       "      <td>2</td>\n",
       "      <td>Hit-6+ Vintage:60.32%</td>\n",
       "      <td>Hit-lt 6 Vinta:2.10%</td>\n",
       "      <td>None</td>\n",
       "      <td>None</td>\n",
       "      <td>None</td>\n",
       "      <td>None</td>\n",
       "      <td>None</td>\n",
       "      <td>None</td>\n",
       "      <td>Hit-6+ Vintage:60.32%</td>\n",
       "      <td>Hit-lt 6 Vinta:2.10%</td>\n",
       "    </tr>\n",
       "    <tr>\n",
       "      <th>var_d2</th>\n",
       "      <td>float64</td>\n",
       "      <td>43576</td>\n",
       "      <td>5.44%</td>\n",
       "      <td>389</td>\n",
       "      <td>570.492</td>\n",
       "      <td>355.565</td>\n",
       "      <td>-1</td>\n",
       "      <td>-1</td>\n",
       "      <td>-1</td>\n",
       "      <td>778</td>\n",
       "      <td>810</td>\n",
       "      <td>832</td>\n",
       "      <td>864</td>\n",
       "      <td>900</td>\n",
       "    </tr>\n",
       "    <tr>\n",
       "      <th>var_d3</th>\n",
       "      <td>object</td>\n",
       "      <td>43576</td>\n",
       "      <td>5.31%</td>\n",
       "      <td>6</td>\n",
       "      <td>RESIDENT INDIAN:94.00%</td>\n",
       "      <td>NON-RESIDENT INDIAN:0.64%</td>\n",
       "      <td>PARTNERSHIP FIRM:0.02%</td>\n",
       "      <td>PRIVATE LTD COMPANIES:0.02%</td>\n",
       "      <td>PUBLIC LTD COMPANIES:0.00%</td>\n",
       "      <td>NON-RESIDENT INDIAN:0.64%</td>\n",
       "      <td>PARTNERSHIP FIRM:0.02%</td>\n",
       "      <td>PRIVATE LTD COMPANIES:0.02%</td>\n",
       "      <td>PUBLIC LTD COMPANIES:0.00%</td>\n",
       "      <td>OVERSEAS CITIZEN OF INDIA:0.00%</td>\n",
       "    </tr>\n",
       "    <tr>\n",
       "      <th>var_d4</th>\n",
       "      <td>object</td>\n",
       "      <td>43576</td>\n",
       "      <td>1.08%</td>\n",
       "      <td>5</td>\n",
       "      <td>Graduate:55.30%</td>\n",
       "      <td>Post-Graduate:21.57%</td>\n",
       "      <td>Others:10.71%</td>\n",
       "      <td>Under Graduate:10.67%</td>\n",
       "      <td>Professional:0.67%</td>\n",
       "      <td>Graduate:55.30%</td>\n",
       "      <td>Post-Graduate:21.57%</td>\n",
       "      <td>Others:10.71%</td>\n",
       "      <td>Under Graduate:10.67%</td>\n",
       "      <td>Professional:0.67%</td>\n",
       "    </tr>\n",
       "    <tr>\n",
       "      <th>var_d5</th>\n",
       "      <td>object</td>\n",
       "      <td>43576</td>\n",
       "      <td>1.08%</td>\n",
       "      <td>3</td>\n",
       "      <td>M:79.70%</td>\n",
       "      <td>F:14.33%</td>\n",
       "      <td>O:4.89%</td>\n",
       "      <td>None</td>\n",
       "      <td>None</td>\n",
       "      <td>None</td>\n",
       "      <td>None</td>\n",
       "      <td>M:79.70%</td>\n",
       "      <td>F:14.33%</td>\n",
       "      <td>O:4.89%</td>\n",
       "    </tr>\n",
       "    <tr>\n",
       "      <th>var_d6</th>\n",
       "      <td>object</td>\n",
       "      <td>43576</td>\n",
       "      <td>1.08%</td>\n",
       "      <td>13</td>\n",
       "      <td>RESIDENT INDIAN:93.34%</td>\n",
       "      <td>PRIVATE LTD COMPANIES:2.57%</td>\n",
       "      <td>PARTNERSHIP FIRM:1.45%</td>\n",
       "      <td>PUBLIC LTD COMPANIES:0.73%</td>\n",
       "      <td>NON-RESIDENT INDIAN:0.64%</td>\n",
       "      <td>CO-OPERATIVE SOCIETIES:0.01%</td>\n",
       "      <td>LIMITED LIABILITY PARTNERSHIP:0.00%</td>\n",
       "      <td>ASSOCIATION:0.00%</td>\n",
       "      <td>TRUST-NGO:0.00%</td>\n",
       "      <td>OVERSEAS CITIZEN OF INDIA:0.00%</td>\n",
       "    </tr>\n",
       "    <tr>\n",
       "      <th>var_d7</th>\n",
       "      <td>object</td>\n",
       "      <td>43576</td>\n",
       "      <td>1.60%</td>\n",
       "      <td>84</td>\n",
       "      <td>SALARIED:31.43%</td>\n",
       "      <td>PROPRIETOR:31.31%</td>\n",
       "      <td>SELF-EMPLOYED:10.74%</td>\n",
       "      <td>OTHERS:6.40%</td>\n",
       "      <td>FIRST TIME USERS:2.72%</td>\n",
       "      <td>NURSE:0.00%</td>\n",
       "      <td>PHARMACIST:0.00%</td>\n",
       "      <td>RETAIL BUS OPERATOR:0.00%</td>\n",
       "      <td>PRIVATE TAILOR:0.00%</td>\n",
       "      <td>TAXI DRIVER:0.00%</td>\n",
       "    </tr>\n",
       "    <tr>\n",
       "      <th>var_d8</th>\n",
       "      <td>object</td>\n",
       "      <td>43576</td>\n",
       "      <td>1.08%</td>\n",
       "      <td>2</td>\n",
       "      <td>Y:59.90%</td>\n",
       "      <td>N:39.03%</td>\n",
       "      <td>None</td>\n",
       "      <td>None</td>\n",
       "      <td>None</td>\n",
       "      <td>None</td>\n",
       "      <td>None</td>\n",
       "      <td>None</td>\n",
       "      <td>Y:59.90%</td>\n",
       "      <td>N:39.03%</td>\n",
       "    </tr>\n",
       "  </tbody>\n",
       "</table>\n",
       "</div>"
      ],
      "text/plain": [
       "             type   size missing  unique            mean_or_top1  \\\n",
       "APP_ID_C   object  43576   0.00%   43576         app_36227:0.00%   \n",
       "target      int64  43576   0.00%       2               0.0213191   \n",
       "var_d1     object  43576  37.57%       2   Hit-6+ Vintage:60.32%   \n",
       "var_d2    float64  43576   5.44%     389                 570.492   \n",
       "var_d3     object  43576   5.31%       6  RESIDENT INDIAN:94.00%   \n",
       "var_d4     object  43576   1.08%       5         Graduate:55.30%   \n",
       "var_d5     object  43576   1.08%       3                M:79.70%   \n",
       "var_d6     object  43576   1.08%      13  RESIDENT INDIAN:93.34%   \n",
       "var_d7     object  43576   1.60%      84         SALARIED:31.43%   \n",
       "var_d8     object  43576   1.08%       2                Y:59.90%   \n",
       "\n",
       "                          std_or_top2             min_or_top3  \\\n",
       "APP_ID_C              app_29819:0.00%         app_35476:0.00%   \n",
       "target                       0.144447                       0   \n",
       "var_d1           Hit-lt 6 Vinta:2.10%                    None   \n",
       "var_d2                        355.565                      -1   \n",
       "var_d3      NON-RESIDENT INDIAN:0.64%  PARTNERSHIP FIRM:0.02%   \n",
       "var_d4           Post-Graduate:21.57%           Others:10.71%   \n",
       "var_d5                       F:14.33%                 O:4.89%   \n",
       "var_d6    PRIVATE LTD COMPANIES:2.57%  PARTNERSHIP FIRM:1.45%   \n",
       "var_d7              PROPRIETOR:31.31%    SELF-EMPLOYED:10.74%   \n",
       "var_d8                       N:39.03%                    None   \n",
       "\n",
       "                           1%_or_top4                 10%_or_top5  \\\n",
       "APP_ID_C              app_10104:0.00%             app_35794:0.00%   \n",
       "target                              0                           0   \n",
       "var_d1                           None                        None   \n",
       "var_d2                             -1                          -1   \n",
       "var_d3    PRIVATE LTD COMPANIES:0.02%  PUBLIC LTD COMPANIES:0.00%   \n",
       "var_d4          Under Graduate:10.67%          Professional:0.67%   \n",
       "var_d5                           None                        None   \n",
       "var_d6     PUBLIC LTD COMPANIES:0.73%   NON-RESIDENT INDIAN:0.64%   \n",
       "var_d7                   OTHERS:6.40%      FIRST TIME USERS:2.72%   \n",
       "var_d8                           None                        None   \n",
       "\n",
       "                        50%_or_bottom5                       75%_or_bottom4  \\\n",
       "APP_ID_C               app_25789:0.00%                      app_36858:0.00%   \n",
       "target                               0                                    0   \n",
       "var_d1                            None                                 None   \n",
       "var_d2                             778                                  810   \n",
       "var_d3       NON-RESIDENT INDIAN:0.64%               PARTNERSHIP FIRM:0.02%   \n",
       "var_d4                 Graduate:55.30%                 Post-Graduate:21.57%   \n",
       "var_d5                            None                                 None   \n",
       "var_d6    CO-OPERATIVE SOCIETIES:0.01%  LIMITED LIABILITY PARTNERSHIP:0.00%   \n",
       "var_d7                     NURSE:0.00%                     PHARMACIST:0.00%   \n",
       "var_d8                            None                                 None   \n",
       "\n",
       "                       90%_or_bottom3              99%_or_bottom2  \\\n",
       "APP_ID_C              app_12750:0.00%                app_24:0.00%   \n",
       "target                              0                           1   \n",
       "var_d1                           None       Hit-6+ Vintage:60.32%   \n",
       "var_d2                            832                         864   \n",
       "var_d3    PRIVATE LTD COMPANIES:0.02%  PUBLIC LTD COMPANIES:0.00%   \n",
       "var_d4                  Others:10.71%       Under Graduate:10.67%   \n",
       "var_d5                       M:79.70%                    F:14.33%   \n",
       "var_d6              ASSOCIATION:0.00%             TRUST-NGO:0.00%   \n",
       "var_d7      RETAIL BUS OPERATOR:0.00%        PRIVATE TAILOR:0.00%   \n",
       "var_d8                           None                    Y:59.90%   \n",
       "\n",
       "                           max_or_bottom1  \n",
       "APP_ID_C                  app_13004:0.00%  \n",
       "target                                  1  \n",
       "var_d1               Hit-lt 6 Vinta:2.10%  \n",
       "var_d2                                900  \n",
       "var_d3    OVERSEAS CITIZEN OF INDIA:0.00%  \n",
       "var_d4                 Professional:0.67%  \n",
       "var_d5                            O:4.89%  \n",
       "var_d6    OVERSEAS CITIZEN OF INDIA:0.00%  \n",
       "var_d7                  TAXI DRIVER:0.00%  \n",
       "var_d8                           N:39.03%  "
      ]
     },
     "execution_count": 6,
     "metadata": {},
     "output_type": "execute_result"
    }
   ],
   "source": [
    "toad.detect(train)[:10]"
   ]
  },
  {
   "cell_type": "markdown",
   "metadata": {},
   "source": [
    "#### 2. toad.quality(dataframe, target='target', iv_only=False):\n",
    "\n",
    "Output IV (information value), gini, entropy and no. of unique values for each feature. The features are sorted by IV in a descending order. \"target\" is the target variable, and 'iv_only' specifies whether to calculate IV only. \n",
    "\n",
    "\n",
    "<font color='red'>Note: it is recommended to set \"iv_only=True\" for large dataset or high-dimensional data.  </font>"
   ]
  },
  {
   "cell_type": "code",
   "execution_count": 7,
   "metadata": {
    "scrolled": true
   },
   "outputs": [
    {
     "data": {
      "text/html": [
       "<div>\n",
       "<style scoped>\n",
       "    .dataframe tbody tr th:only-of-type {\n",
       "        vertical-align: middle;\n",
       "    }\n",
       "\n",
       "    .dataframe tbody tr th {\n",
       "        vertical-align: top;\n",
       "    }\n",
       "\n",
       "    .dataframe thead th {\n",
       "        text-align: right;\n",
       "    }\n",
       "</style>\n",
       "<table border=\"1\" class=\"dataframe\">\n",
       "  <thead>\n",
       "    <tr style=\"text-align: right;\">\n",
       "      <th></th>\n",
       "      <th>iv</th>\n",
       "      <th>gini</th>\n",
       "      <th>entropy</th>\n",
       "      <th>unique</th>\n",
       "    </tr>\n",
       "  </thead>\n",
       "  <tbody>\n",
       "    <tr>\n",
       "      <th>var_b19</th>\n",
       "      <td>0.353043</td>\n",
       "      <td>NaN</td>\n",
       "      <td>NaN</td>\n",
       "      <td>88.0</td>\n",
       "    </tr>\n",
       "    <tr>\n",
       "      <th>var_b18</th>\n",
       "      <td>0.317603</td>\n",
       "      <td>NaN</td>\n",
       "      <td>NaN</td>\n",
       "      <td>46.0</td>\n",
       "    </tr>\n",
       "    <tr>\n",
       "      <th>var_d2</th>\n",
       "      <td>0.313443</td>\n",
       "      <td>NaN</td>\n",
       "      <td>NaN</td>\n",
       "      <td>411.0</td>\n",
       "    </tr>\n",
       "    <tr>\n",
       "      <th>var_d7</th>\n",
       "      <td>0.309985</td>\n",
       "      <td>NaN</td>\n",
       "      <td>NaN</td>\n",
       "      <td>95.0</td>\n",
       "    </tr>\n",
       "    <tr>\n",
       "      <th>var_b10</th>\n",
       "      <td>0.301111</td>\n",
       "      <td>NaN</td>\n",
       "      <td>NaN</td>\n",
       "      <td>15726.0</td>\n",
       "    </tr>\n",
       "    <tr>\n",
       "      <th>var_b17</th>\n",
       "      <td>0.240104</td>\n",
       "      <td>NaN</td>\n",
       "      <td>NaN</td>\n",
       "      <td>235.0</td>\n",
       "    </tr>\n",
       "    <tr>\n",
       "      <th>var_b16</th>\n",
       "      <td>0.231403</td>\n",
       "      <td>NaN</td>\n",
       "      <td>NaN</td>\n",
       "      <td>104.0</td>\n",
       "    </tr>\n",
       "    <tr>\n",
       "      <th>var_b24</th>\n",
       "      <td>0.226939</td>\n",
       "      <td>NaN</td>\n",
       "      <td>NaN</td>\n",
       "      <td>30928.0</td>\n",
       "    </tr>\n",
       "    <tr>\n",
       "      <th>var_b20</th>\n",
       "      <td>0.198655</td>\n",
       "      <td>NaN</td>\n",
       "      <td>NaN</td>\n",
       "      <td>34.0</td>\n",
       "    </tr>\n",
       "    <tr>\n",
       "      <th>var_b11</th>\n",
       "      <td>0.187306</td>\n",
       "      <td>NaN</td>\n",
       "      <td>NaN</td>\n",
       "      <td>239.0</td>\n",
       "    </tr>\n",
       "    <tr>\n",
       "      <th>var_l_19</th>\n",
       "      <td>0.160020</td>\n",
       "      <td>NaN</td>\n",
       "      <td>NaN</td>\n",
       "      <td>32240.0</td>\n",
       "    </tr>\n",
       "    <tr>\n",
       "      <th>var_b9</th>\n",
       "      <td>0.157585</td>\n",
       "      <td>NaN</td>\n",
       "      <td>NaN</td>\n",
       "      <td>197.0</td>\n",
       "    </tr>\n",
       "    <tr>\n",
       "      <th>var_l_68</th>\n",
       "      <td>0.150068</td>\n",
       "      <td>NaN</td>\n",
       "      <td>NaN</td>\n",
       "      <td>757.0</td>\n",
       "    </tr>\n",
       "    <tr>\n",
       "      <th>var_l_123</th>\n",
       "      <td>0.146634</td>\n",
       "      <td>NaN</td>\n",
       "      <td>NaN</td>\n",
       "      <td>10602.0</td>\n",
       "    </tr>\n",
       "    <tr>\n",
       "      <th>var_l_125</th>\n",
       "      <td>0.146274</td>\n",
       "      <td>NaN</td>\n",
       "      <td>NaN</td>\n",
       "      <td>6338.0</td>\n",
       "    </tr>\n",
       "  </tbody>\n",
       "</table>\n",
       "</div>"
      ],
      "text/plain": [
       "                 iv  gini  entropy   unique\n",
       "var_b19    0.353043   NaN      NaN     88.0\n",
       "var_b18    0.317603   NaN      NaN     46.0\n",
       "var_d2     0.313443   NaN      NaN    411.0\n",
       "var_d7     0.309985   NaN      NaN     95.0\n",
       "var_b10    0.301111   NaN      NaN  15726.0\n",
       "var_b17    0.240104   NaN      NaN    235.0\n",
       "var_b16    0.231403   NaN      NaN    104.0\n",
       "var_b24    0.226939   NaN      NaN  30928.0\n",
       "var_b20    0.198655   NaN      NaN     34.0\n",
       "var_b11    0.187306   NaN      NaN    239.0\n",
       "var_l_19   0.160020   NaN      NaN  32240.0\n",
       "var_b9     0.157585   NaN      NaN    197.0\n",
       "var_l_68   0.150068   NaN      NaN    757.0\n",
       "var_l_123  0.146634   NaN      NaN  10602.0\n",
       "var_l_125  0.146274   NaN      NaN   6338.0"
      ]
     },
     "execution_count": 7,
     "metadata": {},
     "output_type": "execute_result"
    }
   ],
   "source": [
    "toad.quality(data,'target',iv_only=True)[:15]"
   ]
  },
  {
   "cell_type": "markdown",
   "metadata": {},
   "source": [
    "-----------------------\n",
    "### <font color='blue'>### II. how to use toad to fine tune feature binning and conduct feature selection</font>\n",
    "\n",
    "#### 3. toad.selection.select(dataframe, target='target', empty=0.9, iv=0.02, corr=0.7, return_drop=False, exclude=None):\n",
    "\n",
    "Conduct preliminary feature selection according to missing percentage, IV and correlation (with other features), the variables are:\n",
    "\n",
    "(1) empyt=0.9: the features with missing percentage larger than 90% are filtered;\n",
    "\n",
    "(2) iv=0.02: the features with IV smaller than 0.02 are eliminated;\n",
    "\n",
    "(3) corr=0.7: if two or more features have Pearson correlation larger than 0.7, the ones with lower IV are eliminated;\n",
    "\n",
    "(4) return_drop=False: if set True, the function returns a list of deleted columns;\n",
    "\n",
    "(5) exclude=None: input the list of features to be excluded from the algorithm, typically ID column and month column. \n",
    "\n",
    "As shown in the cell below, none feautures are deleted due to high missing values, most values are deleted by the IV threshold, several are deleted for the correlation. In the end, 32 features are chosen from initially 165. "
   ]
  },
  {
   "cell_type": "code",
   "execution_count": 9,
   "metadata": {},
   "outputs": [
    {
     "name": "stdout",
     "output_type": "stream",
     "text": [
      "{'empty': array([], dtype=float64), 'iv': array(['var_d1', 'var_d4', 'var_d8', 'var_d9', 'var_b5', 'var_b6',\n",
      "       'var_b7', 'var_l_1', 'var_l_2', 'var_l_3', 'var_l_4', 'var_l_5',\n",
      "       'var_l_6', 'var_l_7', 'var_l_8', 'var_l_10', 'var_l_12',\n",
      "       'var_l_14', 'var_l_15', 'var_l_16', 'var_l_17', 'var_l_18',\n",
      "       'var_l_21', 'var_l_23', 'var_l_24', 'var_l_25', 'var_l_26',\n",
      "       'var_l_27', 'var_l_28', 'var_l_29', 'var_l_30', 'var_l_31',\n",
      "       'var_l_32', 'var_l_33', 'var_l_34', 'var_l_35', 'var_l_37',\n",
      "       'var_l_38', 'var_l_39', 'var_l_40', 'var_l_41', 'var_l_42',\n",
      "       'var_l_43', 'var_l_44', 'var_l_45', 'var_l_47', 'var_l_49',\n",
      "       'var_l_51', 'var_l_53', 'var_l_55', 'var_l_56', 'var_l_57',\n",
      "       'var_l_59', 'var_l_61', 'var_l_62', 'var_l_63', 'var_l_65',\n",
      "       'var_l_67', 'var_l_70', 'var_l_72', 'var_l_75', 'var_l_76',\n",
      "       'var_l_77', 'var_l_78', 'var_l_79', 'var_l_80', 'var_l_81',\n",
      "       'var_l_82', 'var_l_83', 'var_l_84', 'var_l_85', 'var_l_86',\n",
      "       'var_l_87', 'var_l_88', 'var_l_90', 'var_l_92', 'var_l_93',\n",
      "       'var_l_94', 'var_l_95', 'var_l_96', 'var_l_97', 'var_l_98',\n",
      "       'var_l_100', 'var_l_102', 'var_l_104', 'var_l_106', 'var_l_108',\n",
      "       'var_l_109', 'var_l_110', 'var_l_112', 'var_l_114', 'var_l_116',\n",
      "       'var_l_117', 'var_l_118', 'var_l_120', 'var_l_122', 'var_l_124',\n",
      "       'var_l_126'], dtype=object), 'corr': array(['var_b27', 'var_b28', 'var_b4', 'var_l_105', 'var_b25', 'var_b2',\n",
      "       'var_l_113', 'var_l_46', 'var_b26', 'var_b8', 'var_b1',\n",
      "       'var_l_103', 'var_l_99', 'var_l_74', 'var_b14', 'var_l_13',\n",
      "       'var_l_22', 'var_b22', 'var_l_101', 'var_l_111', 'var_b12',\n",
      "       'var_l_69', 'var_b11', 'var_l_115', 'var_l_11', 'var_l_36',\n",
      "       'var_l_50', 'var_l_54', 'var_l_121', 'var_b15', 'var_l_73',\n",
      "       'var_l_66', 'var_l_125', 'var_b16', 'var_b24'], dtype=object)}\n",
      "(43576, 34)\n"
     ]
    }
   ],
   "source": [
    "train_selected, dropped = toad.selection.select(train,target = 'target', empty = 0.5, iv = 0.05, corr = 0.7, return_drop=True, exclude=['APP_ID_C','month'])\n",
    "print(dropped)\n",
    "print(train_selected.shape)"
   ]
  },
  {
   "cell_type": "markdown",
   "metadata": {},
   "source": [
    "#### 4. Fine binning\n",
    "\n",
    "Toad's binning function support both categorical and numerical features. The class \"toad.transform.Combiner()\" is used to train, the procedure is below:\n",
    "\n",
    "(1)  *** initalise: ***c = toad.transform.Combiner()\n",
    "\n",
    "(2) ***train binning***: c.fit(dataframe, y = 'target', method = 'chi', min_samples = None, n_bins = None, empty_separate = False) \n",
    "\n",
    "    - y: target variable;\n",
    "\n",
    "    - method: the method to apply binning. Suport 'chi' (Chi-squared), 'dt', (decisin tree), 'kmean' (K-means), 'percentile' (by the same percentile), and 'step' (by the same step);\n",
    "\n",
    "    - min_samples: can be a number or a porportion. Minimum number / porportion of samples required in each bucket;\n",
    "    \n",
    "    - n_bins: mininum number of buckets. If the number is too large, the algorithm will return the maxinum number of buckets it can get;\n",
    "\n",
    "    - empty_separate: whether to seperate the missing values in a bucket. If False, missing values will be put along with the bucket of most close bad rate. \n",
    "\n",
    "\n",
    "(3) ***binning results***：c.export()\n",
    "\n",
    "(4) ***adjust  bins***: c.set_rules(dict)\n",
    "\n",
    "(5) ***apply bins and convert to discrete values***: c.transform(dataframe, labels=False):\n",
    "\n",
    "    - labels: whether to convert data to explanatory labels. Returns 0, 1, 2 ... when False. Categorical features will be sorted in a descending order of  porportion. Returns (-inf, 0], (0,10], (10, inf) when True.\n",
    "    \n",
    "<font color='red'>Note: 1. remember to exclude the unwanted columns, especially ID column and timestamp column. 2. Columns with large number of unique values may take much time to train.</font>  "
   ]
  },
  {
   "cell_type": "code",
   "execution_count": 11,
   "metadata": {},
   "outputs": [
    {
     "name": "stdout",
     "output_type": "stream",
     "text": [
      "var_d2: [747.0, 782.0, 820.0]\n",
      "var_d5: [['O', 'nan', 'F'], ['M']]\n",
      "var_d6: [['PUBLIC LTD COMPANIES', 'NON-RESIDENT INDIAN', 'PRIVATE LTD COMPANIES', 'PARTNERSHIP FIRM', 'nan'], ['RESIDENT INDIAN', 'TRUST', 'TRUST-CLUBS/ASSN/SOC/SEC-25 CO.', 'HINDU UNDIVIDED FAMILY', 'CO-OPERATIVE SOCIETIES', 'LIMITED LIABILITY PARTNERSHIP', 'ASSOCIATION', 'OVERSEAS CITIZEN OF INDIA', 'TRUST-NGO']]\n"
     ]
    }
   ],
   "source": [
    "# initialise\n",
    "c = toad.transform.Combiner()\n",
    "\n",
    "to_drop=['APP_ID_C','month']\n",
    "# Train binning with the selected features from previous; use reliable Chi-squared binning, and control that each bucket has at least 5% sample.\n",
    "c.fit(train_selected, y = 'target', method = 'chi', min_samples = 0.05, exclude = to_drop) #empty_separate = False\n",
    "\n",
    "# For the demonstration purpose, only showcase 3 bin results.\n",
    "print('var_d2:',c.export()['var_d2'])\n",
    "print('var_d5:',c.export()['var_d5'])\n",
    "print('var_d6:',c.export()['var_d6'])"
   ]
  },
  {
   "cell_type": "markdown",
   "metadata": {},
   "source": [
    "#### 5. Fine tune bins\n",
    "\n",
    "The \"toad.plot\" provides functions for visualisation to help make adjustment.\n",
    "\n",
    "(1) ***In-sample visualisation  ***： toad.plot.bin_plot(dataframe, x = None, target = 'target)\n",
    "\n",
    "The bars are the proportion of each binned class, and the line is the corresponding postive sample proportion (e.g. bad rate).\n",
    "\n",
    "    - x: the feature column of interest\n",
    "    \n",
    "    - target: target variable"
   ]
  },
  {
   "cell_type": "code",
   "execution_count": 15,
   "metadata": {
    "scrolled": false
   },
   "outputs": [
    {
     "name": "stderr",
     "output_type": "stream",
     "text": [
      "No handles with labels found to put in legend.\n",
      "No handles with labels found to put in legend.\n"
     ]
    },
    {
     "data": {
      "text/plain": [
       "<matplotlib.axes._subplots.AxesSubplot at 0x13b033128>"
      ]
     },
     "execution_count": 15,
     "metadata": {},
     "output_type": "execute_result"
    },
    {
     "data": {
      "image/png": "[encoded data removed]",
      "text/plain": [
       "<Figure size 864x432 with 2 Axes>"
      ]
     },
     "metadata": {
      "needs_background": "light"
     },
     "output_type": "display_data"
    }
   ],
   "source": [
    "from toad.plot import bin_plot\n",
    "\n",
    "# Check the bin results of 'var_d2' of in-sample \n",
    "col = 'var_d2'\n",
    "\n",
    "# It's recommended to set 'labels = True' for better visualisation.\n",
    "bin_plot(c.transform(train_selected[[col,'target']], labels=True), x=col, target='target')"
   ]
  },
  {
   "cell_type": "markdown",
   "metadata": {},
   "source": [
    "(2) ***OOT visualisation：*** toad.plot.badrate_plot(dataframe, target = 'target', x = None, by = None)\n",
    "\n",
    "Show the positive rates of each class across different time.\n",
    "\n",
    "    - target: target variable\n",
    "    \n",
    "    - x: time column, must be in string\n",
    "    \n",
    "    - by: feature column of interest\n",
    "\n",
    "<font color='red'>Note: the time column must be preprocessed and converted to string - timestamp is not supported</font> "
   ]
  },
  {
   "cell_type": "code",
   "execution_count": 14,
   "metadata": {},
   "outputs": [
    {
     "data": {
      "text/plain": [
       "'\\nA feature is preferrable if the gaps between classes get wider as time goes by - it means the binned classes have larger difference. No line crossing means the bin results are stable.\\n'"
      ]
     },
     "execution_count": 14,
     "metadata": {},
     "output_type": "execute_result"
    },
    {
     "data": {
      "image/png": "[encoded data removed]",
      "text/plain": [
       "<Figure size 864x432 with 1 Axes>"
      ]
     },
     "metadata": {
      "needs_background": "light"
     },
     "output_type": "display_data"
    }
   ],
   "source": [
    "from toad.plot import badrate_plot\n",
    "\n",
    "col = 'var_d2'\n",
    "\n",
    "# Check the stability of 'var_d2''s bins across time\n",
    "#badrate_plot(c.transform(train[[col,'target','month']], labels=True), target='target', x='month', by=col)\n",
    "#badrate_plot(c.transform(OOT[[col,'target','month']], labels=True), target='target', x='month', by=col)\n",
    "\n",
    "badrate_plot(c.transform(data[[col,'target','month']], labels=True), target='target', x='month', by=col)\n",
    "'''\n",
    "A feature is preferrable if the gaps between classes get wider as time goes by - it means the binned classes have larger difference. No line crossing means the bin results are stable.\n",
    "'''"
   ]
  },
  {
   "cell_type": "code",
   "execution_count": 12,
   "metadata": {},
   "outputs": [
    {
     "name": "stderr",
     "output_type": "stream",
     "text": [
      "No handles with labels found to put in legend.\n",
      "No handles with labels found to put in legend.\n"
     ]
    },
    {
     "data": {
      "text/plain": [
       "<matplotlib.axes._subplots.AxesSubplot at 0x1a2d1b5f60>"
      ]
     },
     "execution_count": 12,
     "metadata": {},
     "output_type": "execute_result"
    },
    {
     "data": {
      "image/png": "[encoded data removed]",
      "text/plain": [
       "<Figure size 864x432 with 2 Axes>"
      ]
     },
     "metadata": {
      "needs_background": "light"
     },
     "output_type": "display_data"
    }
   ],
   "source": [
    "# Check the bin results of var_d5 of in-sample\n",
    "col = 'var_d5'\n",
    "\n",
    "# It's recommended to set 'labels = True' for categorical features.\n",
    "bin_plot(c.transform(train_selected[[col,'target']], labels=True), x=col, target='target')"
   ]
  },
  {
   "cell_type": "markdown",
   "metadata": {},
   "source": [
    "(3) ***adjust bins：***c.set_rules(dict)\n",
    "\n",
    "the passed new bins will be updated - other feature bins are kept intact. "
   ]
  },
  {
   "cell_type": "code",
   "execution_count": 16,
   "metadata": {},
   "outputs": [
    {
     "name": "stderr",
     "output_type": "stream",
     "text": [
      "No handles with labels found to put in legend.\n",
      "No handles with labels found to put in legend.\n"
     ]
    },
    {
     "data": {
      "text/plain": [
       "<matplotlib.axes._subplots.AxesSubplot at 0x1282486d8>"
      ]
     },
     "execution_count": 16,
     "metadata": {},
     "output_type": "execute_result"
    },
    {
     "data": {
      "image/png": "[encoded data removed]",
      "text/plain": [
       "<Figure size 864x432 with 2 Axes>"
      ]
     },
     "metadata": {
      "needs_background": "light"
     },
     "output_type": "display_data"
    },
    {
     "data": {
      "image/png": "[encoded data removed]",
      "text/plain": [
       "<Figure size 864x432 with 1 Axes>"
      ]
     },
     "metadata": {
      "needs_background": "light"
     },
     "output_type": "display_data"
    }
   ],
   "source": [
    "# The IV is small, assume we want to seperate 'F' out to lift IV. \n",
    "\n",
    "# Set new bins \n",
    "rule = {'var_d5':[['O', 'nan'],['F'], ['M']]}\n",
    "\n",
    "# Pass new bins\n",
    "c.set_rules(rule)\n",
    "\n",
    "# Re-check both in-sample and OOT stability. \n",
    "bin_plot(c.transform(train_selected[['var_d5','target']], labels=True), x='var_d5', target='target')\n",
    "badrate_plot(c.transform(OOT[['var_d5','target','month']], labels=True), target='target', x='month', by='var_d5')"
   ]
  },
  {
   "cell_type": "markdown",
   "metadata": {},
   "source": [
    "### <font color='blue'>###  III. WOE transformation</font>\n",
    "\n",
    "WOE transformation is applied after binning is tuned and finalised. The procedure is following:\n",
    "\n",
    "(1) ***Use the finalised Combiner to apply the binning:*** c.transform(dataframe, labels=False) \n",
    "\n",
    "    It only transform the binned features. \n",
    "\n",
    "(2) ***initialise woe transer:*** transer =  toad.transform.WOETransformer()\n",
    "\n",
    "(3) ***fit_transform:*** transer.fit_transform(dataframe, target, exclude = None)\n",
    "\n",
    "\n",
    "    Fit and apply WOE transformation, for in-sample data\n",
    "    \n",
    "    - target：target values in Series or DataFrame;\n",
    "    \n",
    "    - exclude: columns not be WOE transformed\n",
    "<font color='red'> Note: 1. \"fit_transform\" fits and transform all the data, even the ones not binned. Remember to exclude the unwanted columns. 2. Alwasy exlclude target column.</font>\n",
    "    \n",
    "(4)  ***Apply WOE transformation, typically to test / OOT data：***transer.transform(dataframe)"
   ]
  },
  {
   "cell_type": "code",
   "execution_count": 14,
   "metadata": {},
   "outputs": [
    {
     "name": "stdout",
     "output_type": "stream",
     "text": [
      "  APP_ID_C  target    var_d2    var_d3    var_d5    var_d6    var_d7  \\\n",
      "0    app_1       0 -0.178286  0.046126  0.090613  0.047145  0.365305   \n",
      "1    app_2       0 -1.410248  0.046126 -0.271655  0.047145 -0.734699   \n",
      "2    app_3       0 -0.178286  0.046126  0.090613  0.047145  0.365305   \n",
      "\n",
      "    var_d11    var_b3    var_b9  ...  var_l_60  var_l_64  var_l_68  var_l_71  \\\n",
      "0 -0.152228 -0.141182 -0.237656  ...  0.132170  0.080656  0.091919  0.150975   \n",
      "1 -0.152228  0.199186  0.199186  ...  0.132170  0.080656  0.091919  0.150975   \n",
      "2 -0.152228 -0.141182  0.388957  ... -0.926987 -0.235316 -0.883896 -0.385976   \n",
      "\n",
      "   var_l_89  var_l_91  var_l_107  var_l_119  var_l_123    month  \n",
      "0  0.091901  0.086402  -0.034434   0.027322   0.087378  2019-03  \n",
      "1  0.091901  0.086402  -0.034434   0.027322   0.087378  2019-03  \n",
      "2  0.091901 -0.620829  -0.034434  -0.806599  -0.731941  2019-03  \n",
      "\n",
      "[3 rows x 34 columns]\n"
     ]
    }
   ],
   "source": [
    "# Initialise\n",
    "transer = toad.transform.WOETransformer()\n",
    "\n",
    "# transer.fit_transform() & combiner.transform(). Remember to exclude target\n",
    "train_woe = transer.fit_transform(c.transform(train_selected), train_selected['target'], exclude=to_drop+['target'])\n",
    "OOT_woe = transer.transform(c.transform(OOT))\n",
    "\n",
    "print(train_woe.head(3))"
   ]
  },
  {
   "cell_type": "markdown",
   "metadata": {},
   "source": [
    "### <font color='blue'>###  IV.Stepwise regression feature selection</font>\n",
    "---------------\n",
    "\n",
    "6. ***toad.selection.stepwise(dataframe, target='target', estimator='ols', direction='both', criterion='aic', max_iter=None, return_drop=False, exclude=None): ***\n",
    "\n",
    "Stepwise regression feature selection, supports forward, backward, and both-direction (recommended):\n",
    "\n",
    "    - estimator: the regression model to fit, support 'ols', 'lr', 'lasso', 'ridge' \n",
    "    \n",
    "    - direction: stepwise direction, support 'forward', 'backward', 'both' (recommended)\n",
    "    \n",
    "    - criterion: selection criteria, support 'aic', 'bic', 'ks', 'auc'\n",
    "    \n",
    "    - max_iter: maximum number of iterations\n",
    "    \n",
    "    - return_drop: whether to return a list of dropped column names\n",
    "    \n",
    "    - exclude: list of column to be from alogorithm, such as ID column and time column.\n",
    "    \n",
    "***tip: generally, direction = 'both' produces the best results. Setting estimator =  'ols' and criterion = 'aic' makes the stepwise fast and the results are sound for logistic regression.***\n",
    "\n",
    "\n"
   ]
  },
  {
   "cell_type": "code",
   "execution_count": 15,
   "metadata": {},
   "outputs": [
    {
     "name": "stdout",
     "output_type": "stream",
     "text": [
      "(43576, 13)\n"
     ]
    }
   ],
   "source": [
    "# Apply stepwise regression on the WOE-transformed data\n",
    "final_data = toad.selection.stepwise(train_woe,target = 'target', estimator='ols', direction = 'both', criterion = 'aic', exclude = to_drop)\n",
    "\n",
    "#  Place the selected features to test / OOT sample \n",
    "final_OOT = OOT_woe[final_data.columns]\n",
    "\n",
    "print(final_data.shape) #  Out of 31 features, stepwise regression selected 10 of them."
   ]
  },
  {
   "cell_type": "code",
   "execution_count": 16,
   "metadata": {},
   "outputs": [],
   "source": [
    "# The final list of features for modelling\n",
    "col = list(final_data.drop(to_drop+['target'],axis=1).columns)"
   ]
  },
  {
   "cell_type": "markdown",
   "metadata": {},
   "source": [
    "7. ***toad.metrics.PSI(df_train, df_test):***\n",
    "\n",
    "Ouput the PSI for each feature - used to check the OOT stability of WOE-transformed features."
   ]
  },
  {
   "cell_type": "code",
   "execution_count": 17,
   "metadata": {},
   "outputs": [
    {
     "data": {
      "text/plain": [
       "var_d2      0.000254\n",
       "var_d5      0.000012\n",
       "var_d7      0.000079\n",
       "var_d11     0.000191\n",
       "var_b10     0.000209\n",
       "var_b18     0.000026\n",
       "var_b19     0.000049\n",
       "var_b23     0.000037\n",
       "var_l_20    0.000115\n",
       "var_l_68    0.000213\n",
       "dtype: float64"
      ]
     },
     "execution_count": 17,
     "metadata": {},
     "output_type": "execute_result"
    }
   ],
   "source": [
    "toad.metrics.PSI(final_data[col], final_OOT[col])"
   ]
  },
  {
   "cell_type": "markdown",
   "metadata": {},
   "source": [
    "### <font color='blue'>###  V. Model evaluation and validation</font>\n",
    "---------------\n",
    "\n",
    "7. **Common evaluation metrics**: toad. metrics. KS, F1, AUC"
   ]
  },
  {
   "cell_type": "code",
   "execution_count": 18,
   "metadata": {},
   "outputs": [
    {
     "name": "stderr",
     "output_type": "stream",
     "text": [
      "/Users/zhouxiyu/anaconda3/lib/python3.7/site-packages/sklearn/linear_model/logistic.py:432: FutureWarning: Default solver will be changed to 'lbfgs' in 0.22. Specify a solver to silence this warning.\n",
      "  FutureWarning)\n"
     ]
    }
   ],
   "source": [
    "# Build a logit\n",
    "from sklearn.linear_model import LogisticRegression\n",
    "\n",
    "lr = LogisticRegression()\n",
    "lr.fit(final_data[col], final_data['target'])\n",
    "\n",
    "# Obtain predicted probability for training and OOT \n",
    "pred_train = lr.predict_proba(final_data[col])[:,1]\n",
    "\n",
    "pred_OOT_may =lr.predict_proba(final_OOT.loc[final_OOT.month == '2019-05',col])[:,1]\n",
    "pred_OOT_june =lr.predict_proba(final_OOT.loc[final_OOT.month == '2019-06',col])[:,1]\n",
    "pred_OOT_july =lr.predict_proba(final_OOT.loc[final_OOT.month == '2019-07',col])[:,1]"
   ]
  },
  {
   "cell_type": "code",
   "execution_count": 19,
   "metadata": {},
   "outputs": [
    {
     "name": "stdout",
     "output_type": "stream",
     "text": [
      "train KS 0.3707986228750539\n",
      "train AUC 0.75060723924743\n",
      "OOT结果\n",
      "5月 KS 0.3686687175756087\n",
      "6月 KS 0.3495273403486497\n",
      "7月 KS 0.3796914199845523\n"
     ]
    }
   ],
   "source": [
    "from toad.metrics import KS, AUC\n",
    "\n",
    "print('train KS',KS(pred_train, final_data['target']))\n",
    "print('train AUC',AUC(pred_train, final_data['target']))\n",
    "print('OOT results')\n",
    "print('5月 KS',KS(pred_OOT_may, final_OOT.loc[final_OOT.month == '2019-05','target']))\n",
    "print('6月 KS',KS(pred_OOT_june, final_OOT.loc[final_OOT.month == '2019-06','target']))\n",
    "print('7月 KS',KS(pred_OOT_july, final_OOT.loc[final_OOT.month == '2019-07','target']))"
   ]
  },
  {
   "cell_type": "markdown",
   "metadata": {},
   "source": [
    "***PSI also be used to gauge the stability of predicted proabilities***"
   ]
  },
  {
   "cell_type": "code",
   "execution_count": 20,
   "metadata": {},
   "outputs": [
    {
     "name": "stdout",
     "output_type": "stream",
     "text": [
      "0.12760761722158315\n",
      "0.1268648506657109\n",
      "0.1268648506657109\n"
     ]
    }
   ],
   "source": [
    "print(toad.metrics.PSI(pred_train,pred_OOT_may))\n",
    "print(toad.metrics.PSI(pred_train,pred_OOT_june))\n",
    "print(toad.metrics.PSI(pred_train,pred_OOT_june))"
   ]
  },
  {
   "cell_type": "markdown",
   "metadata": {},
   "source": [
    "8. ***toad.metrics.KS_bucket(predicted_proba, y_true, bucket=10, method = 'quantile'):***\n",
    "\n",
    "output the evaluative information of binned predicted probability, including the probability range, no. of samples, bad rate, KS of each probability bin. \n",
    "\n",
    "    - bucket：no. of bins\n",
    "    \n",
    "    - method：method of binning. Recommend to use 'quantile' or 'step' \n",
    "    \n",
    "<font color='red'> (1) the larger the difference of bad_rate between each group, the better the results; (2) can be used to check the monotonicity of groups of scores; (3) can be used to find the optimal cutoff point; (4) can be used to compare predictability of models </font>\n",
    "\n"
   ]
  },
  {
   "cell_type": "code",
   "execution_count": 21,
   "metadata": {},
   "outputs": [
    {
     "data": {
      "text/html": [
       "<div>\n",
       "<style scoped>\n",
       "    .dataframe tbody tr th:only-of-type {\n",
       "        vertical-align: middle;\n",
       "    }\n",
       "\n",
       "    .dataframe tbody tr th {\n",
       "        vertical-align: top;\n",
       "    }\n",
       "\n",
       "    .dataframe thead th {\n",
       "        text-align: right;\n",
       "    }\n",
       "</style>\n",
       "<table border=\"1\" class=\"dataframe\">\n",
       "  <thead>\n",
       "    <tr style=\"text-align: right;\">\n",
       "      <th></th>\n",
       "      <th>min</th>\n",
       "      <th>max</th>\n",
       "      <th>bads</th>\n",
       "      <th>goods</th>\n",
       "      <th>total</th>\n",
       "      <th>bad_rate</th>\n",
       "      <th>good_rate</th>\n",
       "      <th>odds</th>\n",
       "      <th>bad_prop</th>\n",
       "      <th>good_prop</th>\n",
       "      <th>total_prop</th>\n",
       "      <th>cum_bads</th>\n",
       "      <th>cum_goods</th>\n",
       "      <th>cum_total</th>\n",
       "      <th>cum_bads_prop</th>\n",
       "      <th>cum_goods_prop</th>\n",
       "      <th>cum_total_prop</th>\n",
       "      <th>ks</th>\n",
       "    </tr>\n",
       "  </thead>\n",
       "  <tbody>\n",
       "    <tr>\n",
       "      <th>0</th>\n",
       "      <td>0.000275</td>\n",
       "      <td>0.003380</td>\n",
       "      <td>9</td>\n",
       "      <td>4332</td>\n",
       "      <td>4341</td>\n",
       "      <td>0.002073</td>\n",
       "      <td>0.997927</td>\n",
       "      <td>0.002078</td>\n",
       "      <td>0.009688</td>\n",
       "      <td>0.101578</td>\n",
       "      <td>0.099619</td>\n",
       "      <td>9</td>\n",
       "      <td>4332</td>\n",
       "      <td>4341</td>\n",
       "      <td>0.009688</td>\n",
       "      <td>0.101578</td>\n",
       "      <td>0.099619</td>\n",
       "      <td>-0.091890</td>\n",
       "    </tr>\n",
       "    <tr>\n",
       "      <th>1</th>\n",
       "      <td>0.003398</td>\n",
       "      <td>0.005207</td>\n",
       "      <td>12</td>\n",
       "      <td>3585</td>\n",
       "      <td>3597</td>\n",
       "      <td>0.003336</td>\n",
       "      <td>0.996664</td>\n",
       "      <td>0.003347</td>\n",
       "      <td>0.012917</td>\n",
       "      <td>0.084062</td>\n",
       "      <td>0.082545</td>\n",
       "      <td>21</td>\n",
       "      <td>7917</td>\n",
       "      <td>7938</td>\n",
       "      <td>0.022605</td>\n",
       "      <td>0.185640</td>\n",
       "      <td>0.182164</td>\n",
       "      <td>-0.163035</td>\n",
       "    </tr>\n",
       "    <tr>\n",
       "      <th>2</th>\n",
       "      <td>0.005207</td>\n",
       "      <td>0.008116</td>\n",
       "      <td>37</td>\n",
       "      <td>5071</td>\n",
       "      <td>5108</td>\n",
       "      <td>0.007244</td>\n",
       "      <td>0.992756</td>\n",
       "      <td>0.007296</td>\n",
       "      <td>0.039828</td>\n",
       "      <td>0.118906</td>\n",
       "      <td>0.117220</td>\n",
       "      <td>58</td>\n",
       "      <td>12988</td>\n",
       "      <td>13046</td>\n",
       "      <td>0.062433</td>\n",
       "      <td>0.304547</td>\n",
       "      <td>0.299385</td>\n",
       "      <td>-0.242114</td>\n",
       "    </tr>\n",
       "    <tr>\n",
       "      <th>3</th>\n",
       "      <td>0.008125</td>\n",
       "      <td>0.010862</td>\n",
       "      <td>26</td>\n",
       "      <td>3854</td>\n",
       "      <td>3880</td>\n",
       "      <td>0.006701</td>\n",
       "      <td>0.993299</td>\n",
       "      <td>0.006746</td>\n",
       "      <td>0.027987</td>\n",
       "      <td>0.090370</td>\n",
       "      <td>0.089040</td>\n",
       "      <td>84</td>\n",
       "      <td>16842</td>\n",
       "      <td>16926</td>\n",
       "      <td>0.090420</td>\n",
       "      <td>0.394916</td>\n",
       "      <td>0.388425</td>\n",
       "      <td>-0.304497</td>\n",
       "    </tr>\n",
       "    <tr>\n",
       "      <th>4</th>\n",
       "      <td>0.010868</td>\n",
       "      <td>0.014651</td>\n",
       "      <td>59</td>\n",
       "      <td>4759</td>\n",
       "      <td>4818</td>\n",
       "      <td>0.012246</td>\n",
       "      <td>0.987754</td>\n",
       "      <td>0.012398</td>\n",
       "      <td>0.063509</td>\n",
       "      <td>0.111590</td>\n",
       "      <td>0.110565</td>\n",
       "      <td>143</td>\n",
       "      <td>21601</td>\n",
       "      <td>21744</td>\n",
       "      <td>0.153929</td>\n",
       "      <td>0.506507</td>\n",
       "      <td>0.498990</td>\n",
       "      <td>-0.352578</td>\n",
       "    </tr>\n",
       "    <tr>\n",
       "      <th>5</th>\n",
       "      <td>0.014661</td>\n",
       "      <td>0.019846</td>\n",
       "      <td>76</td>\n",
       "      <td>3901</td>\n",
       "      <td>3977</td>\n",
       "      <td>0.019110</td>\n",
       "      <td>0.980890</td>\n",
       "      <td>0.019482</td>\n",
       "      <td>0.081808</td>\n",
       "      <td>0.091472</td>\n",
       "      <td>0.091266</td>\n",
       "      <td>219</td>\n",
       "      <td>25502</td>\n",
       "      <td>25721</td>\n",
       "      <td>0.235737</td>\n",
       "      <td>0.597979</td>\n",
       "      <td>0.590256</td>\n",
       "      <td>-0.362241</td>\n",
       "    </tr>\n",
       "    <tr>\n",
       "      <th>6</th>\n",
       "      <td>0.019858</td>\n",
       "      <td>0.025968</td>\n",
       "      <td>116</td>\n",
       "      <td>4665</td>\n",
       "      <td>4781</td>\n",
       "      <td>0.024263</td>\n",
       "      <td>0.975737</td>\n",
       "      <td>0.024866</td>\n",
       "      <td>0.124865</td>\n",
       "      <td>0.109386</td>\n",
       "      <td>0.109716</td>\n",
       "      <td>335</td>\n",
       "      <td>30167</td>\n",
       "      <td>30502</td>\n",
       "      <td>0.360603</td>\n",
       "      <td>0.707365</td>\n",
       "      <td>0.699972</td>\n",
       "      <td>-0.346762</td>\n",
       "    </tr>\n",
       "    <tr>\n",
       "      <th>7</th>\n",
       "      <td>0.025986</td>\n",
       "      <td>0.032467</td>\n",
       "      <td>108</td>\n",
       "      <td>4188</td>\n",
       "      <td>4296</td>\n",
       "      <td>0.025140</td>\n",
       "      <td>0.974860</td>\n",
       "      <td>0.025788</td>\n",
       "      <td>0.116254</td>\n",
       "      <td>0.098202</td>\n",
       "      <td>0.098586</td>\n",
       "      <td>443</td>\n",
       "      <td>34355</td>\n",
       "      <td>34798</td>\n",
       "      <td>0.476857</td>\n",
       "      <td>0.805567</td>\n",
       "      <td>0.798559</td>\n",
       "      <td>-0.328710</td>\n",
       "    </tr>\n",
       "    <tr>\n",
       "      <th>8</th>\n",
       "      <td>0.032484</td>\n",
       "      <td>0.044998</td>\n",
       "      <td>173</td>\n",
       "      <td>4187</td>\n",
       "      <td>4360</td>\n",
       "      <td>0.039679</td>\n",
       "      <td>0.960321</td>\n",
       "      <td>0.041318</td>\n",
       "      <td>0.186222</td>\n",
       "      <td>0.098178</td>\n",
       "      <td>0.100055</td>\n",
       "      <td>616</td>\n",
       "      <td>38542</td>\n",
       "      <td>39158</td>\n",
       "      <td>0.663079</td>\n",
       "      <td>0.903745</td>\n",
       "      <td>0.898614</td>\n",
       "      <td>-0.240666</td>\n",
       "    </tr>\n",
       "    <tr>\n",
       "      <th>9</th>\n",
       "      <td>0.045115</td>\n",
       "      <td>0.370055</td>\n",
       "      <td>313</td>\n",
       "      <td>4105</td>\n",
       "      <td>4418</td>\n",
       "      <td>0.070847</td>\n",
       "      <td>0.929153</td>\n",
       "      <td>0.076248</td>\n",
       "      <td>0.336921</td>\n",
       "      <td>0.096255</td>\n",
       "      <td>0.101386</td>\n",
       "      <td>929</td>\n",
       "      <td>42647</td>\n",
       "      <td>43576</td>\n",
       "      <td>1.000000</td>\n",
       "      <td>1.000000</td>\n",
       "      <td>1.000000</td>\n",
       "      <td>0.000000</td>\n",
       "    </tr>\n",
       "  </tbody>\n",
       "</table>\n",
       "</div>"
      ],
      "text/plain": [
       "        min       max  bads  goods  total  bad_rate  good_rate      odds  \\\n",
       "0  0.000275  0.003380     9   4332   4341  0.002073   0.997927  0.002078   \n",
       "1  0.003398  0.005207    12   3585   3597  0.003336   0.996664  0.003347   \n",
       "2  0.005207  0.008116    37   5071   5108  0.007244   0.992756  0.007296   \n",
       "3  0.008125  0.010862    26   3854   3880  0.006701   0.993299  0.006746   \n",
       "4  0.010868  0.014651    59   4759   4818  0.012246   0.987754  0.012398   \n",
       "5  0.014661  0.019846    76   3901   3977  0.019110   0.980890  0.019482   \n",
       "6  0.019858  0.025968   116   4665   4781  0.024263   0.975737  0.024866   \n",
       "7  0.025986  0.032467   108   4188   4296  0.025140   0.974860  0.025788   \n",
       "8  0.032484  0.044998   173   4187   4360  0.039679   0.960321  0.041318   \n",
       "9  0.045115  0.370055   313   4105   4418  0.070847   0.929153  0.076248   \n",
       "\n",
       "   bad_prop  good_prop  total_prop  cum_bads  cum_goods  cum_total  \\\n",
       "0  0.009688   0.101578    0.099619         9       4332       4341   \n",
       "1  0.012917   0.084062    0.082545        21       7917       7938   \n",
       "2  0.039828   0.118906    0.117220        58      12988      13046   \n",
       "3  0.027987   0.090370    0.089040        84      16842      16926   \n",
       "4  0.063509   0.111590    0.110565       143      21601      21744   \n",
       "5  0.081808   0.091472    0.091266       219      25502      25721   \n",
       "6  0.124865   0.109386    0.109716       335      30167      30502   \n",
       "7  0.116254   0.098202    0.098586       443      34355      34798   \n",
       "8  0.186222   0.098178    0.100055       616      38542      39158   \n",
       "9  0.336921   0.096255    0.101386       929      42647      43576   \n",
       "\n",
       "   cum_bads_prop  cum_goods_prop  cum_total_prop        ks  \n",
       "0       0.009688        0.101578        0.099619 -0.091890  \n",
       "1       0.022605        0.185640        0.182164 -0.163035  \n",
       "2       0.062433        0.304547        0.299385 -0.242114  \n",
       "3       0.090420        0.394916        0.388425 -0.304497  \n",
       "4       0.153929        0.506507        0.498990 -0.352578  \n",
       "5       0.235737        0.597979        0.590256 -0.362241  \n",
       "6       0.360603        0.707365        0.699972 -0.346762  \n",
       "7       0.476857        0.805567        0.798559 -0.328710  \n",
       "8       0.663079        0.903745        0.898614 -0.240666  \n",
       "9       1.000000        1.000000        1.000000  0.000000  "
      ]
     },
     "execution_count": 21,
     "metadata": {},
     "output_type": "execute_result"
    }
   ],
   "source": [
    "# Group the predicted scores in bins with same number of samples in each (i.e. \"quantile\" binning)\n",
    "toad.metrics.KS_bucket(pred_train, final_data['target'], bucket=10, method = 'quantile')"
   ]
  },
  {
   "cell_type": "markdown",
   "metadata": {},
   "source": [
    "### <font color='blue'>###  VI. Standard scorecard transformation</font>\n",
    "---------------\n",
    "\n",
    "6. **toad.ScoreCard( combiner = {}, transer = None, pdo = 60, rate = 2, base_odds = 20, base_score = 750, card = None, C=0.1,**kwargs): \n",
    "\n",
    "Convert logit into a standard scorecard. Support direct input of parameters of a LogisticRegression class.\n",
    "\n",
    "    - combiner: input the pre-fitted toad.Combiner class\n",
    "    \n",
    "    - transer: input the per-fitted toad.WOETransformer class\n",
    "    \n",
    "    - pdo、rate、base_odds、base_score: \n",
    "     e.g. pdo=60, rate=2, base_odds=20,base_score=750\n",
    "          it means when odds is 1/60, the base socre is 750, and t\n",
    "   \n",
    "    - card: 支持传入专家评分卡 pre-defined scorecard\n",
    "    \n",
    "    - **kwargs: support to input parameters of a logistic regression class (i.e. sklearn.linear_model.LogisticRegression)\n",
    "    "
   ]
  },
  {
   "cell_type": "code",
   "execution_count": 22,
   "metadata": {
    "scrolled": true
   },
   "outputs": [
    {
     "name": "stderr",
     "output_type": "stream",
     "text": [
      "/Users/zhouxiyu/anaconda3/lib/python3.7/site-packages/sklearn/linear_model/logistic.py:432: FutureWarning: Default solver will be changed to 'lbfgs' in 0.22. Specify a solver to silence this warning.\n",
      "  FutureWarning)\n"
     ]
    },
    {
     "data": {
      "text/plain": [
       "ScoreCard(base_odds=35, base_score=750, card=None,\n",
       "          combiner=<toad.transform.Combiner object at 0x1a2434fdd8>, pdo=60,\n",
       "          rate=2,\n",
       "          transer=<toad.transform.WOETransformer object at 0x1a235a5358>)"
      ]
     },
     "execution_count": 22,
     "metadata": {},
     "output_type": "execute_result"
    }
   ],
   "source": [
    "card = toad.ScoreCard(\n",
    "    combiner = c,\n",
    "    transer = transer,\n",
    "    #class_weight = 'balanced',\n",
    "    #C=0.1,\n",
    "    #base_score = 600,\n",
    "    #base_odds = 35 ,\n",
    "    #pdo = 60,\n",
    "    #rate = 2\n",
    ")\n",
    "\n",
    "card.fit(final_data[col], final_data['target'])"
   ]
  },
  {
   "cell_type": "code",
   "execution_count": 23,
   "metadata": {},
   "outputs": [
    {
     "data": {
      "text/plain": [
       "{'var_d2': {'[-inf ~ 747.0)': 65.54,\n",
       "  '[747.0 ~ 782.0)': 45.72,\n",
       "  '[782.0 ~ 820.0)': 88.88,\n",
       "  '[820.0 ~ inf)': 168.3},\n",
       " 'var_d5': {'O,nan': 185.9, 'F': 103.26, 'M': 68.76},\n",
       " 'var_d7': {'LARGE FLEET OPERATOR,COMPANY,STRATEGIC TRANSPRTER,SALARIED,HOUSEWIFE': 120.82,\n",
       "  'DOCTOR-SELF EMPLOYED,nan,SAL(RETIRAL AGE 60),SERVICES,SAL(RETIRAL AGE 58),OTHERS,DOCTOR-SALARIED,AGENT,CONSULTANT,DIRECTOR,MEDIUM FLEETOPERATOR,TRADER,RETAIL TRANSPORTER,MANUFACTURING,FIRST TIME USERS,STUDENT,PENSIONER': 81.32,\n",
       "  'PROPRIETOR,TRADING,STRATEGIC CAPTIVE,SELF-EMPLOYED,SERV-PRIVATE SECTOR,SMALL RD TRANS.OPR,BUSINESSMAN,CARETAKER,RETAIL,AGRICULTURIST,RETIRED PERSONNEL,MANAGER,CONTRACTOR,ACCOUNTANT,BANKS SERVICE,GOVERNMENT SERVICE,ADVISOR,STRATEGIC S1,SCHOOLS,TEACHER,GENARAL RETAILER,RESTAURANT KEEPER,OFFICER,POLICEMAN,SERV-PUBLIC SECTOR,BARRISTER,Salaried,SALESMAN,RETAIL CAPTIVE,Defence (NCO),STRATEGIC S2,OTHERS NOT DEFINED,JEWELLER,SECRETARY,SUP STRAT TRANSPORT,LECTURER,ATTORNEY AT LAW,TAILOR,TECHNICIAN,CLERK,PLANTER,DRIVER,PRIEST,PROGRAMMER,EXECUTIVE ASSISTANT,PROOF READER,STOCKBROKER(S)-COMMD,TYPIST,ADMINSTRATOR,INDUSTRY,PHARMACIST,Trading,TAXI DRIVER,STRATEGIC BUS OP,CHAIRMAN,CARPENTER,DISPENSER,HELPER,STRATEGIC S3,RETAIL BUS OPERATOR,GARAGIST,PRIVATE TAILOR,NURSE': 55.79},\n",
       " 'var_d11': {'N': 88.69, 'U': 23.72},\n",
       " 'var_b10': {'[-inf ~ -8888.0)': 67.76,\n",
       "  '[-8888.0 ~ 0.548229531)': 97.51,\n",
       "  '[0.548229531 ~ inf)': 36.22},\n",
       " 'var_b18': {'[-inf ~ 2)': 83.72, '[2 ~ inf)': 39.23},\n",
       " 'var_b19': {'[-inf ~ -9999)': 70.78, '[-9999 ~ 4)': 97.51, '[4 ~ inf)': 42.2},\n",
       " 'var_b23': {'[-inf ~ -8888)': 64.51, '[-8888 ~ inf)': 102.69},\n",
       " 'var_l_20': {'[-inf ~ 0.000404297)': 78.55,\n",
       "  '[0.000404297 ~ 0.003092244)': 103.85,\n",
       "  '[0.003092244 ~ inf)': 36.21},\n",
       " 'var_l_68': {'[-inf ~ 0.000255689)': 70.63,\n",
       "  '[0.000255689 ~ 0.002045513)': 24.56,\n",
       "  '[0.002045513 ~ 0.007414983000000002)': 66.63,\n",
       "  '[0.007414983000000002 ~ 0.019943748)': 99.55,\n",
       "  '[0.019943748 ~ inf)': 142.36}}"
      ]
     },
     "execution_count": 23,
     "metadata": {},
     "output_type": "execute_result"
    }
   ],
   "source": [
    "# Output standard scorecard \n",
    "card.export()"
   ]
  },
  {
   "cell_type": "markdown",
   "metadata": {},
   "source": [
    "### <font color='blue'>###  VII. Other functions </font>\n",
    "\n",
    "--------------------\n",
    "\n",
    "***toad.transform.GBDTTransformer ***\n",
    "\n",
    " GBDT encoding - pre-processing for gbdt + lr technique. "
   ]
  },
  {
   "cell_type": "code",
   "execution_count": 28,
   "metadata": {},
   "outputs": [
    {
     "name": "stderr",
     "output_type": "stream",
     "text": [
      "/Users/zhouxiyu/anaconda3/lib/python3.7/site-packages/sklearn/preprocessing/_encoders.py:415: FutureWarning: The handling of integer data will change in version 0.22. Currently, the categories are determined based on the range [0, max(values)], while in the future they will be determined based on the unique values.\n",
      "If you want the future behaviour and silence this warning, you can specify \"categories='auto'\".\n",
      "In case you used a LabelEncoder before this OneHotEncoder to convert the categories to integers, then you can now use the OneHotEncoder directly.\n",
      "  warnings.warn(msg, FutureWarning)\n"
     ]
    },
    {
     "data": {
      "text/plain": [
       "<toad.transform.GBDTTransformer at 0x1a2daf60f0>"
      ]
     },
     "execution_count": 28,
     "metadata": {},
     "output_type": "execute_result"
    }
   ],
   "source": [
    "gbdt_transer = toad.transform.GBDTTransformer()\n",
    "gbdt_transer.fit(final_data[col+['target']], 'target', n_estimators = 10, max_depth = 2)"
   ]
  },
  {
   "cell_type": "code",
   "execution_count": 29,
   "metadata": {},
   "outputs": [],
   "source": [
    "gbdt_vars = gbdt_transer.transform(final_data[col])"
   ]
  },
  {
   "cell_type": "code",
   "execution_count": 31,
   "metadata": {},
   "outputs": [
    {
     "data": {
      "text/plain": [
       "(43576, 40)"
      ]
     },
     "execution_count": 31,
     "metadata": {},
     "output_type": "execute_result"
    }
   ],
   "source": [
    "gbdt_vars.shape"
   ]
  },
  {
   "cell_type": "code",
   "execution_count": null,
   "metadata": {},
   "outputs": [],
   "source": []
  }
 ],
 "metadata": {
  "kernelspec": {
   "display_name": "Python 3",
   "language": "python",
   "name": "python3"
  },
  "language_info": {
   "codemirror_mode": {
    "name": "ipython",
    "version": 3
   },
   "file_extension": ".py",
   "mimetype": "text/x-python",
   "name": "python",
   "nbconvert_exporter": "python",
   "pygments_lexer": "ipython3",
   "version": "3.7.3"
  }
 },
 "nbformat": 4,
 "nbformat_minor": 2
}
